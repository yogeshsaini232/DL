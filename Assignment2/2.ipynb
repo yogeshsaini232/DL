{
 "cells": [
  {
   "cell_type": "code",
   "execution_count": 1,
   "metadata": {},
   "outputs": [
    {
     "name": "stdout",
     "output_type": "stream",
     "text": [
      "WARNING:tensorflow:From f:\\BE_Project\\myenv\\Lib\\site-packages\\keras\\src\\losses.py:2976: The name tf.losses.sparse_softmax_cross_entropy is deprecated. Please use tf.compat.v1.losses.sparse_softmax_cross_entropy instead.\n",
      "\n"
     ]
    }
   ],
   "source": [
    "import pandas as pd\n",
    "import numpy as np\n",
    "from sklearn.model_selection import train_test_split\n",
    "from sklearn.preprocessing import LabelEncoder\n",
    "from keras.models import Sequential\n",
    "from keras.layers import Dense, Dropout\n",
    "from keras.utils import to_categorical"
   ]
  },
  {
   "cell_type": "code",
   "execution_count": 2,
   "metadata": {},
   "outputs": [],
   "source": [
    "df = pd.read_csv(\"Assignment2 (letter_recognition).data\")"
   ]
  },
  {
   "cell_type": "code",
   "execution_count": 4,
   "metadata": {},
   "outputs": [],
   "source": [
    "X = df.iloc[:, 1 : 17]\n",
    "Y = df.select_dtypes(include = [object])"
   ]
  },
  {
   "cell_type": "code",
   "execution_count": 6,
   "metadata": {},
   "outputs": [
    {
     "name": "stderr",
     "output_type": "stream",
     "text": [
      "f:\\BE_Project\\myenv\\Lib\\site-packages\\sklearn\\preprocessing\\_label.py:114: DataConversionWarning: A column-vector y was passed when a 1d array was expected. Please change the shape of y to (n_samples, ), for example using ravel().\n",
      "  y = column_or_1d(y, warn=True)\n"
     ]
    }
   ],
   "source": [
    "label_encoder = LabelEncoder()\n",
    "y = label_encoder.fit_transform(Y)"
   ]
  },
  {
   "cell_type": "code",
   "execution_count": 7,
   "metadata": {},
   "outputs": [],
   "source": [
    "X_train, X_test, y_train, y_test = train_test_split(X, y, test_size=0.2, random_state=42)"
   ]
  },
  {
   "cell_type": "code",
   "execution_count": 8,
   "metadata": {},
   "outputs": [],
   "source": [
    "X_train = X_train.astype('float32') / 255\n",
    "X_test = X_test.astype('float32') / 255\n",
    "\n",
    "# Convert labels to one-hot encoded vectors\n",
    "num_classes = len(np.unique(y))\n",
    "y_train = to_categorical(y_train, num_classes)\n",
    "y_test = to_categorical(y_test, num_classes)"
   ]
  },
  {
   "cell_type": "code",
   "execution_count": 9,
   "metadata": {},
   "outputs": [
    {
     "name": "stdout",
     "output_type": "stream",
     "text": [
      "WARNING:tensorflow:From f:\\BE_Project\\myenv\\Lib\\site-packages\\keras\\src\\backend.py:873: The name tf.get_default_graph is deprecated. Please use tf.compat.v1.get_default_graph instead.\n",
      "\n",
      "WARNING:tensorflow:From f:\\BE_Project\\myenv\\Lib\\site-packages\\keras\\src\\optimizers\\__init__.py:309: The name tf.train.Optimizer is deprecated. Please use tf.compat.v1.train.Optimizer instead.\n",
      "\n",
      "Model: \"sequential\"\n",
      "_________________________________________________________________\n",
      " Layer (type)                Output Shape              Param #   \n",
      "=================================================================\n",
      " dense (Dense)               (None, 512)               8704      \n",
      "                                                                 \n",
      " dropout (Dropout)           (None, 512)               0         \n",
      "                                                                 \n",
      " dense_1 (Dense)             (None, 256)               131328    \n",
      "                                                                 \n",
      " dropout_1 (Dropout)         (None, 256)               0         \n",
      "                                                                 \n",
      " dense_2 (Dense)             (None, 26)                6682      \n",
      "                                                                 \n",
      "=================================================================\n",
      "Total params: 146714 (573.10 KB)\n",
      "Trainable params: 146714 (573.10 KB)\n",
      "Non-trainable params: 0 (0.00 Byte)\n",
      "_________________________________________________________________\n"
     ]
    }
   ],
   "source": [
    "model = Sequential()\n",
    "model.add(Dense(512, activation='relu', input_shape=(X_train.shape[1],)))\n",
    "model.add(Dropout(0.5))\n",
    "model.add(Dense(256, activation='relu'))\n",
    "model.add(Dropout(0.5))\n",
    "model.add(Dense(num_classes, activation='softmax'))\n",
    "\n",
    "model.compile(loss='categorical_crossentropy', optimizer='adam', metrics=['accuracy'])\n",
    "\n",
    "model.summary()"
   ]
  },
  {
   "cell_type": "code",
   "execution_count": 10,
   "metadata": {},
   "outputs": [
    {
     "name": "stdout",
     "output_type": "stream",
     "text": [
      "Epoch 1/20\n",
      "WARNING:tensorflow:From f:\\BE_Project\\myenv\\Lib\\site-packages\\keras\\src\\utils\\tf_utils.py:492: The name tf.ragged.RaggedTensorValue is deprecated. Please use tf.compat.v1.ragged.RaggedTensorValue instead.\n",
      "\n",
      "WARNING:tensorflow:From f:\\BE_Project\\myenv\\Lib\\site-packages\\keras\\src\\engine\\base_layer_utils.py:384: The name tf.executing_eagerly_outside_functions is deprecated. Please use tf.compat.v1.executing_eagerly_outside_functions instead.\n",
      "\n",
      "113/113 [==============================] - 4s 9ms/step - loss: 3.2242 - accuracy: 0.0876 - val_loss: 3.1178 - val_accuracy: 0.1887\n",
      "Epoch 2/20\n",
      "113/113 [==============================] - 1s 6ms/step - loss: 2.7862 - accuracy: 0.2076 - val_loss: 2.3959 - val_accuracy: 0.3381\n",
      "Epoch 3/20\n",
      "113/113 [==============================] - 1s 4ms/step - loss: 2.2887 - accuracy: 0.3047 - val_loss: 2.0524 - val_accuracy: 0.4281\n",
      "Epoch 4/20\n",
      "113/113 [==============================] - 1s 5ms/step - loss: 2.0541 - accuracy: 0.3673 - val_loss: 1.8458 - val_accuracy: 0.4656\n",
      "Epoch 5/20\n",
      "113/113 [==============================] - 1s 5ms/step - loss: 1.8942 - accuracy: 0.4128 - val_loss: 1.7089 - val_accuracy: 0.5138\n",
      "Epoch 6/20\n",
      "113/113 [==============================] - 1s 6ms/step - loss: 1.7700 - accuracy: 0.4468 - val_loss: 1.5954 - val_accuracy: 0.5337\n",
      "Epoch 7/20\n",
      "113/113 [==============================] - 1s 6ms/step - loss: 1.6722 - accuracy: 0.4779 - val_loss: 1.5108 - val_accuracy: 0.5594\n",
      "Epoch 8/20\n",
      "113/113 [==============================] - 1s 6ms/step - loss: 1.6119 - accuracy: 0.4971 - val_loss: 1.4420 - val_accuracy: 0.5875\n",
      "Epoch 9/20\n",
      "113/113 [==============================] - 1s 6ms/step - loss: 1.5477 - accuracy: 0.5225 - val_loss: 1.3878 - val_accuracy: 0.5919\n",
      "Epoch 10/20\n",
      "113/113 [==============================] - 1s 7ms/step - loss: 1.5026 - accuracy: 0.5377 - val_loss: 1.3484 - val_accuracy: 0.5987\n",
      "Epoch 11/20\n",
      "113/113 [==============================] - 1s 6ms/step - loss: 1.4546 - accuracy: 0.5476 - val_loss: 1.2962 - val_accuracy: 0.6225\n",
      "Epoch 12/20\n",
      "113/113 [==============================] - 1s 6ms/step - loss: 1.4189 - accuracy: 0.5577 - val_loss: 1.2710 - val_accuracy: 0.6081\n",
      "Epoch 13/20\n",
      "113/113 [==============================] - 1s 6ms/step - loss: 1.3820 - accuracy: 0.5764 - val_loss: 1.2235 - val_accuracy: 0.6356\n",
      "Epoch 14/20\n",
      "113/113 [==============================] - 1s 6ms/step - loss: 1.3468 - accuracy: 0.5847 - val_loss: 1.1922 - val_accuracy: 0.6519\n",
      "Epoch 15/20\n",
      "113/113 [==============================] - 1s 6ms/step - loss: 1.3089 - accuracy: 0.5946 - val_loss: 1.1735 - val_accuracy: 0.6500\n",
      "Epoch 16/20\n",
      "113/113 [==============================] - 1s 6ms/step - loss: 1.2807 - accuracy: 0.6044 - val_loss: 1.1386 - val_accuracy: 0.6675\n",
      "Epoch 17/20\n",
      "113/113 [==============================] - 1s 7ms/step - loss: 1.2475 - accuracy: 0.6137 - val_loss: 1.1101 - val_accuracy: 0.6681\n",
      "Epoch 18/20\n",
      "113/113 [==============================] - 1s 6ms/step - loss: 1.2222 - accuracy: 0.6240 - val_loss: 1.0782 - val_accuracy: 0.6781\n",
      "Epoch 19/20\n",
      "113/113 [==============================] - 1s 6ms/step - loss: 1.1931 - accuracy: 0.6349 - val_loss: 1.0631 - val_accuracy: 0.6712\n",
      "Epoch 20/20\n",
      "113/113 [==============================] - 1s 6ms/step - loss: 1.1653 - accuracy: 0.6362 - val_loss: 1.0214 - val_accuracy: 0.6881\n"
     ]
    }
   ],
   "source": [
    "history = model.fit(X_train, y_train, batch_size=128, epochs=20, verbose=1, validation_split=0.1)"
   ]
  },
  {
   "cell_type": "code",
   "execution_count": 11,
   "metadata": {},
   "outputs": [
    {
     "name": "stdout",
     "output_type": "stream",
     "text": [
      "Test loss: 1.0328969955444336\n",
      "Test accuracy: 0.6952499747276306\n"
     ]
    }
   ],
   "source": [
    "score = model.evaluate(X_test, y_test, verbose=0)\n",
    "print('Test loss:', score[0])\n",
    "print('Test accuracy:', score[1])"
   ]
  },
  {
   "cell_type": "code",
   "execution_count": 13,
   "metadata": {},
   "outputs": [
    {
     "data": {
      "text/plain": [
       "<Axes: title={'center': 'Accuracy Curves'}, xlabel='Epochs', ylabel='Accuracy'>"
      ]
     },
     "execution_count": 13,
     "metadata": {},
     "output_type": "execute_result"
    },
    {
     "data": {
      "image/png": "[encoded data removed]",
      "text/plain": [
       "<Figure size 640x480 with 1 Axes>"
      ]
     },
     "metadata": {},
     "output_type": "display_data"
    }
   ],
   "source": [
    "pd.DataFrame(history.history).plot(y=['accuracy', 'val_accuracy'], xlabel=\"Epochs\", ylabel=\"Accuracy\", title=\"Accuracy Curves\")"
   ]
  },
  {
   "cell_type": "code",
   "execution_count": null,
   "metadata": {},
   "outputs": [],
   "source": [
    "import pandas as pd\n",
    "import numpy as np\n",
    "from sklearn.model_selection import train_test_split\n",
    "from sklearn.preprocessing import LabelEncoder\n",
    "from keras.models import Sequential\n",
    "from keras.layers import Dense, Dropout\n",
    "from keras.utils import to_categorical\n",
    "\n",
    "# Load the dataset from CSV file\n",
    "df = pd.read_csv('letter_dataset.csv')\n",
    "\n",
    "# Extract features (pixel values) and labels\n",
    "X = df.drop('label', axis=1)  # Assuming 'label' is the column name for the target variable\n",
    "y = df['label']\n",
    "\n",
    "# Encode labels to numerical values\n",
    "label_encoder = LabelEncoder()\n",
    "y = label_encoder.fit_transform(y)\n",
    "\n",
    "# Split the dataset into training and testing sets\n",
    "X_train, X_test, y_train, y_test = train_test_split(X, y, test_size=0.2, random_state=42)\n",
    "\n",
    "# Normalize the pixel values (assuming pixel values are between 0 and 255)\n",
    "X_train = X_train.astype('float32') / 255\n",
    "X_test = X_test.astype('float32') / 255\n",
    "\n",
    "# Convert labels to one-hot encoded vectors\n",
    "num_classes = len(np.unique(y))\n",
    "y_train = to_categorical(y_train, num_classes)\n",
    "y_test = to_categorical(y_test, num_classes)\n",
    "\n",
    "# Build the neural network model\n",
    "model = Sequential()\n",
    "model.add(Dense(512, activation='relu', input_shape=(X_train.shape[1],)))\n",
    "model.add(Dropout(0.5))\n",
    "model.add(Dense(256, activation='relu'))\n",
    "model.add(Dropout(0.5))\n",
    "model.add(Dense(num_classes, activation='softmax'))\n",
    "\n",
    "# Compile the model\n",
    "model.compile(loss='categorical_crossentropy', optimizer='adam', metrics=['accuracy'])\n",
    "\n",
    "# Train the model\n",
    "history = model.fit(X_train, y_train, batch_size=128, epochs=20, verbose=1, validation_split=0.1)\n",
    "\n",
    "# Evaluate the model\n",
    "score = model.evaluate(X_test, y_test, verbose=0)\n",
    "print('Test loss:', score[0])\n",
    "print('Test accuracy:', score[1])"
   ]
  }
 ],
 "metadata": {
  "kernelspec": {
   "display_name": "myenv",
   "language": "python",
   "name": "python3"
  },
  "language_info": {
   "codemirror_mode": {
    "name": "ipython",
    "version": 3
   },
   "file_extension": ".py",
   "mimetype": "text/x-python",
   "name": "python",
   "nbconvert_exporter": "python",
   "pygments_lexer": "ipython3",
   "version": "3.11.0"
  }
 },
 "nbformat": 4,
 "nbformat_minor": 2
}
